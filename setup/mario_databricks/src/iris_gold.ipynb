{
 "cells": [
  {
   "cell_type": "code",
   "execution_count": null,
   "metadata": {},
   "outputs": [],
   "source": [
    "import time \n",
    "print(\"this is the gold version of iris\")\n",
    "\n",
    "time.sleep(30)\n",
    "print(\"done!\")"
   ]
  }
 ],
 "metadata": {
  "language_info": {
   "name": "python"
  }
 },
 "nbformat": 4,
 "nbformat_minor": 2
}
